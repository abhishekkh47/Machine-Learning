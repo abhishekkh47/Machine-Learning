{
 "cells": [
  {
   "cell_type": "code",
   "execution_count": 15,
   "metadata": {},
   "outputs": [],
   "source": [
    "import numpy as np"
   ]
  },
  {
   "cell_type": "code",
   "execution_count": 16,
   "metadata": {},
   "outputs": [],
   "source": [
    "l = [1,2,3,4]"
   ]
  },
  {
   "cell_type": "code",
   "execution_count": 17,
   "metadata": {},
   "outputs": [],
   "source": [
    "a = np.array(l)"
   ]
  },
  {
   "cell_type": "code",
   "execution_count": 18,
   "metadata": {},
   "outputs": [
    {
     "data": {
      "text/plain": [
       "array([2, 3, 4])"
      ]
     },
     "execution_count": 18,
     "metadata": {},
     "output_type": "execute_result"
    }
   ],
   "source": [
    "a[1:]"
   ]
  },
  {
   "cell_type": "code",
   "execution_count": 19,
   "metadata": {},
   "outputs": [],
   "source": [
    "l2 = [[1,1,1,1],[2,2,2,2],[3,3,3,3],[4,4,4,4]]"
   ]
  },
  {
   "cell_type": "code",
   "execution_count": 20,
   "metadata": {},
   "outputs": [],
   "source": [
    "a2= np.array(l2)"
   ]
  },
  {
   "cell_type": "code",
   "execution_count": 21,
   "metadata": {},
   "outputs": [
    {
     "data": {
      "text/plain": [
       "array([[3, 3],\n",
       "       [4, 4]])"
      ]
     },
     "execution_count": 21,
     "metadata": {},
     "output_type": "execute_result"
    }
   ],
   "source": [
    "a2[2:4,1:3]"
   ]
  },
  {
   "cell_type": "code",
   "execution_count": 22,
   "metadata": {},
   "outputs": [
    {
     "data": {
      "text/plain": [
       "array([1, 2, 3, 4])"
      ]
     },
     "execution_count": 22,
     "metadata": {},
     "output_type": "execute_result"
    }
   ],
   "source": [
    "a2[:,0]"
   ]
  },
  {
   "cell_type": "code",
   "execution_count": 23,
   "metadata": {},
   "outputs": [],
   "source": [
    "# for 3-d array we are using an image\n",
    "import cv2"
   ]
  },
  {
   "cell_type": "code",
   "execution_count": 31,
   "metadata": {},
   "outputs": [],
   "source": [
    "photo = cv2.imread('mountains.jpg')"
   ]
  },
  {
   "cell_type": "code",
   "execution_count": 25,
   "metadata": {},
   "outputs": [
    {
     "data": {
      "text/plain": [
       "(400, 600, 3)"
      ]
     },
     "execution_count": 25,
     "metadata": {},
     "output_type": "execute_result"
    }
   ],
   "source": [
    "photo.shape"
   ]
  },
  {
   "cell_type": "code",
   "execution_count": 26,
   "metadata": {},
   "outputs": [
    {
     "data": {
      "text/plain": [
       "array([[[255, 255, 255],\n",
       "        [255, 255, 255],\n",
       "        [255, 255, 255],\n",
       "        ...,\n",
       "        [204, 193, 189],\n",
       "        [203, 192, 188],\n",
       "        [202, 191, 187]],\n",
       "\n",
       "       [[255, 255, 255],\n",
       "        [255, 255, 255],\n",
       "        [255, 255, 255],\n",
       "        ...,\n",
       "        [203, 192, 188],\n",
       "        [203, 192, 188],\n",
       "        [202, 191, 187]],\n",
       "\n",
       "       [[255, 255, 255],\n",
       "        [255, 255, 255],\n",
       "        [255, 255, 255],\n",
       "        ...,\n",
       "        [203, 192, 188],\n",
       "        [202, 191, 187],\n",
       "        [202, 191, 187]],\n",
       "\n",
       "       ...,\n",
       "\n",
       "       [[133, 122, 102],\n",
       "        [133, 122, 102],\n",
       "        [134, 123, 103],\n",
       "        ...,\n",
       "        [ 12,  22,  22],\n",
       "        [  8,  22,  21],\n",
       "        [  7,  23,  22]],\n",
       "\n",
       "       [[134, 123, 103],\n",
       "        [135, 124, 104],\n",
       "        [135, 124, 104],\n",
       "        ...,\n",
       "        [ 14,  19,  20],\n",
       "        [ 10,  20,  20],\n",
       "        [  0,  10,  10]],\n",
       "\n",
       "       [[136, 125, 105],\n",
       "        [136, 125, 105],\n",
       "        [137, 126, 106],\n",
       "        ...,\n",
       "        [ 37,  41,  42],\n",
       "        [ 34,  42,  42],\n",
       "        [ 12,  22,  22]]], dtype=uint8)"
      ]
     },
     "execution_count": 26,
     "metadata": {},
     "output_type": "execute_result"
    }
   ],
   "source": [
    "photo[:,:,:]"
   ]
  },
  {
   "cell_type": "code",
   "execution_count": 27,
   "metadata": {},
   "outputs": [
    {
     "data": {
      "text/plain": [
       "array([[255, 255, 255, ..., 204, 203, 202],\n",
       "       [255, 255, 255, ..., 203, 203, 202],\n",
       "       [255, 255, 255, ..., 203, 202, 202],\n",
       "       ...,\n",
       "       [133, 133, 134, ...,  12,   8,   7],\n",
       "       [134, 135, 135, ...,  14,  10,   0],\n",
       "       [136, 136, 137, ...,  37,  34,  12]], dtype=uint8)"
      ]
     },
     "execution_count": 27,
     "metadata": {},
     "output_type": "execute_result"
    }
   ],
   "source": [
    "photo[:,:,0]"
   ]
  },
  {
   "cell_type": "code",
   "execution_count": 28,
   "metadata": {},
   "outputs": [],
   "source": [
    "cv2.imshow('hi',photo)\n",
    "cv2.waitKey()\n",
    "cv2.destroyAllWindows()"
   ]
  },
  {
   "cell_type": "code",
   "execution_count": 29,
   "metadata": {},
   "outputs": [],
   "source": [
    "#to remove red color\n",
    "photo[:,:,2] = 0"
   ]
  },
  {
   "cell_type": "code",
   "execution_count": 30,
   "metadata": {},
   "outputs": [],
   "source": [
    "cv2.imshow('hi',photo)\n",
    "cv2.waitKey()\n",
    "cv2.destroyAllWindows()"
   ]
  },
  {
   "cell_type": "code",
   "execution_count": 32,
   "metadata": {},
   "outputs": [],
   "source": [
    "# to split photo according to 3 diferent colors\n",
    "b,g,r = cv2.split(photo)"
   ]
  },
  {
   "cell_type": "code",
   "execution_count": 33,
   "metadata": {},
   "outputs": [
    {
     "data": {
      "text/plain": [
       "array([[[255, 255, 255],\n",
       "        [255, 255, 255],\n",
       "        [255, 255, 255],\n",
       "        ...,\n",
       "        [204, 193, 189],\n",
       "        [203, 192, 188],\n",
       "        [202, 191, 187]],\n",
       "\n",
       "       [[255, 255, 255],\n",
       "        [255, 255, 255],\n",
       "        [255, 255, 255],\n",
       "        ...,\n",
       "        [203, 192, 188],\n",
       "        [203, 192, 188],\n",
       "        [202, 191, 187]],\n",
       "\n",
       "       [[255, 255, 255],\n",
       "        [255, 255, 255],\n",
       "        [255, 255, 255],\n",
       "        ...,\n",
       "        [203, 192, 188],\n",
       "        [202, 191, 187],\n",
       "        [202, 191, 187]],\n",
       "\n",
       "       ...,\n",
       "\n",
       "       [[133, 122, 102],\n",
       "        [133, 122, 102],\n",
       "        [134, 123, 103],\n",
       "        ...,\n",
       "        [ 12,  22,  22],\n",
       "        [  8,  22,  21],\n",
       "        [  7,  23,  22]],\n",
       "\n",
       "       [[134, 123, 103],\n",
       "        [135, 124, 104],\n",
       "        [135, 124, 104],\n",
       "        ...,\n",
       "        [ 14,  19,  20],\n",
       "        [ 10,  20,  20],\n",
       "        [  0,  10,  10]],\n",
       "\n",
       "       [[136, 125, 105],\n",
       "        [136, 125, 105],\n",
       "        [137, 126, 106],\n",
       "        ...,\n",
       "        [ 37,  41,  42],\n",
       "        [ 34,  42,  42],\n",
       "        [ 12,  22,  22]]], dtype=uint8)"
      ]
     },
     "execution_count": 33,
     "metadata": {},
     "output_type": "execute_result"
    }
   ],
   "source": [
    "# to combine all 3 different colors\n",
    "cv2.merge([b,g,r])"
   ]
  },
  {
   "cell_type": "code",
   "execution_count": 34,
   "metadata": {},
   "outputs": [
    {
     "data": {
      "text/plain": [
       "(400, 600)"
      ]
     },
     "execution_count": 34,
     "metadata": {},
     "output_type": "execute_result"
    }
   ],
   "source": [
    "r.shape"
   ]
  },
  {
   "cell_type": "code",
   "execution_count": 46,
   "metadata": {},
   "outputs": [],
   "source": [
    "z = np.zeros((400,600))"
   ]
  },
  {
   "cell_type": "code",
   "execution_count": 47,
   "metadata": {},
   "outputs": [
    {
     "data": {
      "text/plain": [
       "(400, 600)"
      ]
     },
     "execution_count": 47,
     "metadata": {},
     "output_type": "execute_result"
    }
   ],
   "source": [
    "z.shape"
   ]
  },
  {
   "cell_type": "code",
   "execution_count": 48,
   "metadata": {},
   "outputs": [
    {
     "data": {
      "text/plain": [
       "array([[0., 0., 0., ..., 0., 0., 0.],\n",
       "       [0., 0., 0., ..., 0., 0., 0.],\n",
       "       [0., 0., 0., ..., 0., 0., 0.],\n",
       "       ...,\n",
       "       [0., 0., 0., ..., 0., 0., 0.],\n",
       "       [0., 0., 0., ..., 0., 0., 0.],\n",
       "       [0., 0., 0., ..., 0., 0., 0.]])"
      ]
     },
     "execution_count": 48,
     "metadata": {},
     "output_type": "execute_result"
    }
   ],
   "source": [
    "z"
   ]
  },
  {
   "cell_type": "code",
   "execution_count": 49,
   "metadata": {},
   "outputs": [
    {
     "ename": "error",
     "evalue": "C:\\ci\\opencv_1512688052760\\work\\modules\\core\\src\\convert.cpp:336: error: (-215) mv[i].size == mv[0].size && mv[i].depth() == depth in function cv::merge\n",
     "output_type": "error",
     "traceback": [
      "\u001b[1;31m---------------------------------------------------------------------------\u001b[0m",
      "\u001b[1;31merror\u001b[0m                                     Traceback (most recent call last)",
      "\u001b[1;32m<ipython-input-49-e9387ae1a10f>\u001b[0m in \u001b[0;36m<module>\u001b[1;34m\u001b[0m\n\u001b[0;32m      1\u001b[0m \u001b[1;31m# one more way to remove red color\u001b[0m\u001b[1;33m\u001b[0m\u001b[1;33m\u001b[0m\u001b[1;33m\u001b[0m\u001b[0m\n\u001b[0;32m      2\u001b[0m \u001b[1;33m\u001b[0m\u001b[0m\n\u001b[1;32m----> 3\u001b[1;33m \u001b[0mcv2\u001b[0m\u001b[1;33m.\u001b[0m\u001b[0mmerge\u001b[0m\u001b[1;33m(\u001b[0m\u001b[1;33m[\u001b[0m\u001b[0mb\u001b[0m\u001b[1;33m,\u001b[0m\u001b[0mg\u001b[0m\u001b[1;33m,\u001b[0m\u001b[0mz\u001b[0m\u001b[1;33m]\u001b[0m\u001b[1;33m)\u001b[0m\u001b[1;33m\u001b[0m\u001b[1;33m\u001b[0m\u001b[0m\n\u001b[0m",
      "\u001b[1;31merror\u001b[0m: C:\\ci\\opencv_1512688052760\\work\\modules\\core\\src\\convert.cpp:336: error: (-215) mv[i].size == mv[0].size && mv[i].depth() == depth in function cv::merge\n"
     ]
    }
   ],
   "source": [
    "# one more way to remove red color\n",
    "\n",
    "cv2.merge([b,g,z])"
   ]
  },
  {
   "cell_type": "code",
   "execution_count": 51,
   "metadata": {},
   "outputs": [
    {
     "data": {
      "text/plain": [
       "dtype('uint8')"
      ]
     },
     "execution_count": 51,
     "metadata": {},
     "output_type": "execute_result"
    }
   ],
   "source": [
    "r.dtype"
   ]
  },
  {
   "cell_type": "code",
   "execution_count": 52,
   "metadata": {},
   "outputs": [
    {
     "data": {
      "text/plain": [
       "dtype('float64')"
      ]
     },
     "execution_count": 52,
     "metadata": {},
     "output_type": "execute_result"
    }
   ],
   "source": [
    "z.dtype"
   ]
  },
  {
   "cell_type": "code",
   "execution_count": 53,
   "metadata": {},
   "outputs": [],
   "source": [
    "# to convert in 'uint8'\n",
    "\n",
    "z = z.astype('uint8')"
   ]
  },
  {
   "cell_type": "code",
   "execution_count": 54,
   "metadata": {},
   "outputs": [
    {
     "data": {
      "text/plain": [
       "array([[[255, 255,   0],\n",
       "        [255, 255,   0],\n",
       "        [255, 255,   0],\n",
       "        ...,\n",
       "        [204, 193,   0],\n",
       "        [203, 192,   0],\n",
       "        [202, 191,   0]],\n",
       "\n",
       "       [[255, 255,   0],\n",
       "        [255, 255,   0],\n",
       "        [255, 255,   0],\n",
       "        ...,\n",
       "        [203, 192,   0],\n",
       "        [203, 192,   0],\n",
       "        [202, 191,   0]],\n",
       "\n",
       "       [[255, 255,   0],\n",
       "        [255, 255,   0],\n",
       "        [255, 255,   0],\n",
       "        ...,\n",
       "        [203, 192,   0],\n",
       "        [202, 191,   0],\n",
       "        [202, 191,   0]],\n",
       "\n",
       "       ...,\n",
       "\n",
       "       [[133, 122,   0],\n",
       "        [133, 122,   0],\n",
       "        [134, 123,   0],\n",
       "        ...,\n",
       "        [ 12,  22,   0],\n",
       "        [  8,  22,   0],\n",
       "        [  7,  23,   0]],\n",
       "\n",
       "       [[134, 123,   0],\n",
       "        [135, 124,   0],\n",
       "        [135, 124,   0],\n",
       "        ...,\n",
       "        [ 14,  19,   0],\n",
       "        [ 10,  20,   0],\n",
       "        [  0,  10,   0]],\n",
       "\n",
       "       [[136, 125,   0],\n",
       "        [136, 125,   0],\n",
       "        [137, 126,   0],\n",
       "        ...,\n",
       "        [ 37,  41,   0],\n",
       "        [ 34,  42,   0],\n",
       "        [ 12,  22,   0]]], dtype=uint8)"
      ]
     },
     "execution_count": 54,
     "metadata": {},
     "output_type": "execute_result"
    }
   ],
   "source": [
    "# one more way to remove red color\n",
    "\n",
    "cv2.merge([b,g,z])"
   ]
  },
  {
   "cell_type": "code",
   "execution_count": null,
   "metadata": {},
   "outputs": [],
   "source": []
  }
 ],
 "metadata": {
  "kernelspec": {
   "display_name": "Python 3",
   "language": "python",
   "name": "python3"
  },
  "language_info": {
   "codemirror_mode": {
    "name": "ipython",
    "version": 3
   },
   "file_extension": ".py",
   "mimetype": "text/x-python",
   "name": "python",
   "nbconvert_exporter": "python",
   "pygments_lexer": "ipython3",
   "version": "3.6.10"
  }
 },
 "nbformat": 4,
 "nbformat_minor": 4
}
