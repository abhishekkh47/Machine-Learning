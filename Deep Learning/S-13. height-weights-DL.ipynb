{
 "cells": [
  {
   "cell_type": "code",
   "execution_count": 1,
   "metadata": {},
   "outputs": [],
   "source": [
    "import pandas as pd"
   ]
  },
  {
   "cell_type": "code",
   "execution_count": 2,
   "metadata": {},
   "outputs": [],
   "source": [
    "dataset = pd.read_csv('weight-height.csv')"
   ]
  },
  {
   "cell_type": "code",
   "execution_count": 3,
   "metadata": {},
   "outputs": [
    {
     "data": {
      "text/plain": [
       "Index(['Gender', 'Height', 'Weight'], dtype='object')"
      ]
     },
     "execution_count": 3,
     "metadata": {},
     "output_type": "execute_result"
    }
   ],
   "source": [
    "dataset.columns"
   ]
  },
  {
   "cell_type": "code",
   "execution_count": 4,
   "metadata": {},
   "outputs": [],
   "source": [
    "y = dataset['Weight']\n",
    "X = dataset['Height']"
   ]
  },
  {
   "cell_type": "code",
   "execution_count": 5,
   "metadata": {},
   "outputs": [
    {
     "name": "stderr",
     "output_type": "stream",
     "text": [
      "Using TensorFlow backend.\n"
     ]
    }
   ],
   "source": [
    "from keras.models import Sequential\n",
    "from keras.layers import Dense\n",
    "from keras.optimizers import Adam"
   ]
  },
  {
   "cell_type": "code",
   "execution_count": 6,
   "metadata": {},
   "outputs": [],
   "source": [
    "# Initialize the model\n",
    "model = Sequential()"
   ]
  },
  {
   "cell_type": "code",
   "execution_count": 7,
   "metadata": {},
   "outputs": [],
   "source": [
    "# Now we will add layers to the model\n",
    "# Here we will add 1 layer\n",
    "model.add(Dense(units=1, input_shape=(1,)))\n",
    "\n",
    "# units = number of outputs\n",
    "# activation function = Linear activation function is used by default\n",
    "# input_shape = number of input features\n",
    "# Dense = hidden layer"
   ]
  },
  {
   "cell_type": "code",
   "execution_count": 8,
   "metadata": {},
   "outputs": [
    {
     "name": "stdout",
     "output_type": "stream",
     "text": [
      "Model: \"sequential_1\"\n",
      "_________________________________________________________________\n",
      "Layer (type)                 Output Shape              Param #   \n",
      "=================================================================\n",
      "dense_1 (Dense)              (None, 1)                 2         \n",
      "=================================================================\n",
      "Total params: 2\n",
      "Trainable params: 2\n",
      "Non-trainable params: 0\n",
      "_________________________________________________________________\n"
     ]
    }
   ],
   "source": [
    "model.summary()\n",
    "# Here Bias and Coefficient are considered as parameters"
   ]
  },
  {
   "cell_type": "code",
   "execution_count": 9,
   "metadata": {},
   "outputs": [],
   "source": [
    "model.compile(loss='mean_squared_error', optimizer=Adam(learning_rate=0.8))"
   ]
  },
  {
   "cell_type": "code",
   "execution_count": 10,
   "metadata": {},
   "outputs": [
    {
     "name": "stdout",
     "output_type": "stream",
     "text": [
      "Epoch 1/20\n",
      "10000/10000 [==============================] - 2s 191us/step - loss: 661.0401\n",
      "Epoch 2/20\n",
      "10000/10000 [==============================] - 0s 26us/step - loss: 565.3557\n",
      "Epoch 3/20\n",
      "10000/10000 [==============================] - 0s 28us/step - loss: 482.3448\n",
      "Epoch 4/20\n",
      "10000/10000 [==============================] - 0s 31us/step - loss: 427.8542\n",
      "Epoch 5/20\n",
      "10000/10000 [==============================] - 0s 30us/step - loss: 389.1832\n",
      "Epoch 6/20\n",
      "10000/10000 [==============================] - 0s 28us/step - loss: 340.8678\n",
      "Epoch 7/20\n",
      "10000/10000 [==============================] - 0s 27us/step - loss: 325.6795\n",
      "Epoch 8/20\n",
      "10000/10000 [==============================] - 0s 27us/step - loss: 291.3689\n",
      "Epoch 9/20\n",
      "10000/10000 [==============================] - 0s 29us/step - loss: 264.0692\n",
      "Epoch 10/20\n",
      "10000/10000 [==============================] - 0s 28us/step - loss: 241.9414\n",
      "Epoch 11/20\n",
      "10000/10000 [==============================] - 0s 27us/step - loss: 224.1805\n",
      "Epoch 12/20\n",
      "10000/10000 [==============================] - 0s 27us/step - loss: 209.1288\n",
      "Epoch 13/20\n",
      "10000/10000 [==============================] - 0s 31us/step - loss: 208.7592\n",
      "Epoch 14/20\n",
      "10000/10000 [==============================] - 0s 26us/step - loss: 193.4829\n",
      "Epoch 15/20\n",
      "10000/10000 [==============================] - 0s 27us/step - loss: 212.8110\n",
      "Epoch 16/20\n",
      "10000/10000 [==============================] - 0s 27us/step - loss: 195.0392\n",
      "Epoch 17/20\n",
      "10000/10000 [==============================] - 0s 30us/step - loss: 183.7420\n",
      "Epoch 18/20\n",
      "10000/10000 [==============================] - 0s 32us/step - loss: 188.8479\n",
      "Epoch 19/20\n",
      "10000/10000 [==============================] - 0s 45us/step - loss: 178.7696\n",
      "Epoch 20/20\n",
      "10000/10000 [==============================] - 0s 43us/step - loss: 178.5398\n"
     ]
    },
    {
     "data": {
      "text/plain": [
       "<keras.callbacks.callbacks.History at 0x22977b6d748>"
      ]
     },
     "execution_count": 10,
     "metadata": {},
     "output_type": "execute_result"
    }
   ],
   "source": [
    "# Train the model\n",
    "model.fit(X,y,epochs=20)"
   ]
  },
  {
   "cell_type": "code",
   "execution_count": 11,
   "metadata": {},
   "outputs": [
    {
     "data": {
      "text/plain": [
       "[array([[7.091742]], dtype=float32), array([-317.6032], dtype=float32)]"
      ]
     },
     "execution_count": 11,
     "metadata": {},
     "output_type": "execute_result"
    }
   ],
   "source": [
    "model.get_weights()"
   ]
  },
  {
   "cell_type": "code",
   "execution_count": 12,
   "metadata": {},
   "outputs": [],
   "source": [
    "W,B = model.get_weights()"
   ]
  },
  {
   "cell_type": "code",
   "execution_count": 13,
   "metadata": {},
   "outputs": [
    {
     "data": {
      "text/plain": [
       "array([[7.091742]], dtype=float32)"
      ]
     },
     "execution_count": 13,
     "metadata": {},
     "output_type": "execute_result"
    }
   ],
   "source": [
    "W"
   ]
  },
  {
   "cell_type": "code",
   "execution_count": 14,
   "metadata": {},
   "outputs": [
    {
     "data": {
      "text/plain": [
       "array([-317.6032], dtype=float32)"
      ]
     },
     "execution_count": 14,
     "metadata": {},
     "output_type": "execute_result"
    }
   ],
   "source": [
    "B"
   ]
  },
  {
   "cell_type": "markdown",
   "metadata": {},
   "source": [
    "## Here , I have not used train-test-split as it was for practice purpose"
   ]
  },
  {
   "cell_type": "code",
   "execution_count": 16,
   "metadata": {},
   "outputs": [
    {
     "data": {
      "text/plain": [
       "(10000,)"
      ]
     },
     "execution_count": 16,
     "metadata": {},
     "output_type": "execute_result"
    }
   ],
   "source": [
    "X.shape"
   ]
  },
  {
   "cell_type": "code",
   "execution_count": null,
   "metadata": {},
   "outputs": [],
   "source": []
  }
 ],
 "metadata": {
  "kernelspec": {
   "display_name": "Python 3",
   "language": "python",
   "name": "python3"
  },
  "language_info": {
   "codemirror_mode": {
    "name": "ipython",
    "version": 3
   },
   "file_extension": ".py",
   "mimetype": "text/x-python",
   "name": "python",
   "nbconvert_exporter": "python",
   "pygments_lexer": "ipython3",
   "version": "3.7.7"
  }
 },
 "nbformat": 4,
 "nbformat_minor": 4
}
