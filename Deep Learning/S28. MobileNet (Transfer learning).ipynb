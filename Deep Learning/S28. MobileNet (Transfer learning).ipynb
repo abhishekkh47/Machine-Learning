{
 "cells": [
  {
   "cell_type": "markdown",
   "metadata": {},
   "source": [
    "# Mobile Net"
   ]
  },
  {
   "cell_type": "code",
   "execution_count": 1,
   "metadata": {},
   "outputs": [
    {
     "name": "stderr",
     "output_type": "stream",
     "text": [
      "Using TensorFlow backend.\n"
     ]
    }
   ],
   "source": [
    "from keras.applications import MobileNet"
   ]
  },
  {
   "cell_type": "code",
   "execution_count": 3,
   "metadata": {},
   "outputs": [
    {
     "name": "stdout",
     "output_type": "stream",
     "text": [
      "Downloading data from https://github.com/fchollet/deep-learning-models/releases/download/v0.6/mobilenet_1_0_224_tf.h5\n",
      "17227776/17225924 [==============================] - 37s 2us/step\n"
     ]
    }
   ],
   "source": [
    "model = MobileNet(weights='imagenet', input_shape=(224,224,3))"
   ]
  },
  {
   "cell_type": "code",
   "execution_count": 4,
   "metadata": {},
   "outputs": [
    {
     "data": {
      "text/plain": [
       "[<keras.engine.input_layer.InputLayer at 0x1dce267ca88>,\n",
       " <keras.layers.convolutional.ZeroPadding2D at 0x1dce26c9488>,\n",
       " <keras.layers.convolutional.Conv2D at 0x1dce22be208>,\n",
       " <keras.layers.normalization.BatchNormalization at 0x1dce265c648>,\n",
       " <keras.layers.advanced_activations.ReLU at 0x1dce269ab48>,\n",
       " <keras.layers.convolutional.DepthwiseConv2D at 0x1dce26c4c48>,\n",
       " <keras.layers.normalization.BatchNormalization at 0x1dce279a748>,\n",
       " <keras.layers.advanced_activations.ReLU at 0x1dce269a4c8>,\n",
       " <keras.layers.convolutional.Conv2D at 0x1dce27aeb48>,\n",
       " <keras.layers.normalization.BatchNormalization at 0x1dce27ebf88>,\n",
       " <keras.layers.advanced_activations.ReLU at 0x1dce282eb88>,\n",
       " <keras.layers.convolutional.ZeroPadding2D at 0x1dce282ee88>,\n",
       " <keras.layers.convolutional.DepthwiseConv2D at 0x1dce2846a08>,\n",
       " <keras.layers.normalization.BatchNormalization at 0x1dce28b82c8>,\n",
       " <keras.layers.advanced_activations.ReLU at 0x1dce28b8588>,\n",
       " <keras.layers.convolutional.Conv2D at 0x1dce28bec08>,\n",
       " <keras.layers.normalization.BatchNormalization at 0x1dce28f8e48>,\n",
       " <keras.layers.advanced_activations.ReLU at 0x1dce294b348>,\n",
       " <keras.layers.convolutional.DepthwiseConv2D at 0x1dce294bdc8>,\n",
       " <keras.layers.normalization.BatchNormalization at 0x1dce29cdc48>,\n",
       " <keras.layers.advanced_activations.ReLU at 0x1dce29dacc8>,\n",
       " <keras.layers.convolutional.Conv2D at 0x1dce29d33c8>,\n",
       " <keras.layers.normalization.BatchNormalization at 0x1dce2a1d248>,\n",
       " <keras.layers.advanced_activations.ReLU at 0x1dce2a5bf48>,\n",
       " <keras.layers.convolutional.ZeroPadding2D at 0x1dce2a5b4c8>,\n",
       " <keras.layers.convolutional.DepthwiseConv2D at 0x1dce2a84908>,\n",
       " <keras.layers.normalization.BatchNormalization at 0x1dce2ae5f08>,\n",
       " <keras.layers.advanced_activations.ReLU at 0x1dce2af35c8>,\n",
       " <keras.layers.convolutional.Conv2D at 0x1dce2af3888>,\n",
       " <keras.layers.normalization.BatchNormalization at 0x1dce2b16508>,\n",
       " <keras.layers.advanced_activations.ReLU at 0x1dce2b7a448>,\n",
       " <keras.layers.convolutional.DepthwiseConv2D at 0x1dce2b7a208>,\n",
       " <keras.layers.normalization.BatchNormalization at 0x1dce2bfcc48>,\n",
       " <keras.layers.advanced_activations.ReLU at 0x1dce2c08d08>,\n",
       " <keras.layers.convolutional.Conv2D at 0x1dce2c08448>,\n",
       " <keras.layers.normalization.BatchNormalization at 0x1dce2c47a88>,\n",
       " <keras.layers.advanced_activations.ReLU at 0x1dce2c88488>,\n",
       " <keras.layers.convolutional.ZeroPadding2D at 0x1dce2c883c8>,\n",
       " <keras.layers.convolutional.DepthwiseConv2D at 0x1dce2cc1b08>,\n",
       " <keras.layers.normalization.BatchNormalization at 0x1dce2e226c8>,\n",
       " <keras.layers.advanced_activations.ReLU at 0x1dce2e2f688>,\n",
       " <keras.layers.convolutional.Conv2D at 0x1dce2e2f248>,\n",
       " <keras.layers.normalization.BatchNormalization at 0x1dce2e70648>,\n",
       " <keras.layers.advanced_activations.ReLU at 0x1dce2eb8808>,\n",
       " <keras.layers.convolutional.DepthwiseConv2D at 0x1dce2eb80c8>,\n",
       " <keras.layers.normalization.BatchNormalization at 0x1dce2f41f08>,\n",
       " <keras.layers.advanced_activations.ReLU at 0x1dce2f38f88>,\n",
       " <keras.layers.convolutional.Conv2D at 0x1dce2f38348>,\n",
       " <keras.layers.normalization.BatchNormalization at 0x1dce2f83848>,\n",
       " <keras.layers.advanced_activations.ReLU at 0x1dce2f9ec08>,\n",
       " <keras.layers.convolutional.DepthwiseConv2D at 0x1dce2fc8688>,\n",
       " <keras.layers.normalization.BatchNormalization at 0x1dce304acc8>,\n",
       " <keras.layers.advanced_activations.ReLU at 0x1dce3052348>,\n",
       " <keras.layers.convolutional.Conv2D at 0x1dce3056688>,\n",
       " <keras.layers.normalization.BatchNormalization at 0x1dce3094bc8>,\n",
       " <keras.layers.advanced_activations.ReLU at 0x1dce30afdc8>,\n",
       " <keras.layers.convolutional.DepthwiseConv2D at 0x1dce30d4e48>,\n",
       " <keras.layers.normalization.BatchNormalization at 0x1dce315aa88>,\n",
       " <keras.layers.advanced_activations.ReLU at 0x1dce31699c8>,\n",
       " <keras.layers.convolutional.Conv2D at 0x1dce3162808>,\n",
       " <keras.layers.normalization.BatchNormalization at 0x1dce31a82c8>,\n",
       " <keras.layers.advanced_activations.ReLU at 0x1dce31ef688>,\n",
       " <keras.layers.convolutional.DepthwiseConv2D at 0x1dce31ef148>,\n",
       " <keras.layers.normalization.BatchNormalization at 0x1dce2ac5e88>,\n",
       " <keras.layers.advanced_activations.ReLU at 0x1dce2ac5d48>,\n",
       " <keras.layers.convolutional.Conv2D at 0x1dce2ad4f08>,\n",
       " <keras.layers.normalization.BatchNormalization at 0x1dce2bda808>,\n",
       " <keras.layers.advanced_activations.ReLU at 0x1dce2f3f208>,\n",
       " <keras.layers.convolutional.DepthwiseConv2D at 0x1dce2f3f748>,\n",
       " <keras.layers.normalization.BatchNormalization at 0x1dce3190e08>,\n",
       " <keras.layers.advanced_activations.ReLU at 0x1dce319f088>,\n",
       " <keras.layers.convolutional.Conv2D at 0x1dce319fb88>,\n",
       " <keras.layers.normalization.BatchNormalization at 0x1dce25a0b88>,\n",
       " <keras.layers.advanced_activations.ReLU at 0x1dce3327988>,\n",
       " <keras.layers.convolutional.ZeroPadding2D at 0x1dce3327bc8>,\n",
       " <keras.layers.convolutional.DepthwiseConv2D at 0x1dce333acc8>,\n",
       " <keras.layers.normalization.BatchNormalization at 0x1dce32bad08>,\n",
       " <keras.layers.advanced_activations.ReLU at 0x1dce32ba208>,\n",
       " <keras.layers.convolutional.Conv2D at 0x1dce32a8cc8>,\n",
       " <keras.layers.normalization.BatchNormalization at 0x1dce3274488>,\n",
       " <keras.layers.advanced_activations.ReLU at 0x1dce15f3648>,\n",
       " <keras.layers.convolutional.DepthwiseConv2D at 0x1dce15f35c8>,\n",
       " <keras.layers.normalization.BatchNormalization at 0x1dce266d508>,\n",
       " <keras.layers.advanced_activations.ReLU at 0x1dce264c648>,\n",
       " <keras.layers.convolutional.Conv2D at 0x1dce264ca08>,\n",
       " <keras.layers.normalization.BatchNormalization at 0x1dce4392b08>,\n",
       " <keras.layers.advanced_activations.ReLU at 0x1dce43bae08>,\n",
       " <keras.layers.pooling.GlobalAveragePooling2D at 0x1dce43bac48>,\n",
       " <keras.layers.core.Reshape at 0x1dce43f3bc8>,\n",
       " <keras.layers.core.Dropout at 0x1dce4407988>,\n",
       " <keras.layers.convolutional.Conv2D at 0x1dce4407a48>,\n",
       " <keras.layers.core.Reshape at 0x1dce4648b88>,\n",
       " <keras.layers.core.Activation at 0x1dce4649448>]"
      ]
     },
     "execution_count": 4,
     "metadata": {},
     "output_type": "execute_result"
    }
   ],
   "source": [
    "model.layers"
   ]
  },
  {
   "cell_type": "code",
   "execution_count": 5,
   "metadata": {},
   "outputs": [
    {
     "data": {
      "text/plain": [
       "<tf.Tensor 'input_1:0' shape=(None, 224, 224, 3) dtype=float32>"
      ]
     },
     "execution_count": 5,
     "metadata": {},
     "output_type": "execute_result"
    }
   ],
   "source": [
    "model.layers[0].input"
   ]
  },
  {
   "cell_type": "code",
   "execution_count": 6,
   "metadata": {},
   "outputs": [
    {
     "data": {
      "text/plain": [
       "'InputLayer'"
      ]
     },
     "execution_count": 6,
     "metadata": {},
     "output_type": "execute_result"
    }
   ],
   "source": [
    "# To check the layer name\n",
    "model.layers[0].__class__.__name__"
   ]
  },
  {
   "cell_type": "code",
   "execution_count": 7,
   "metadata": {},
   "outputs": [
    {
     "data": {
      "text/plain": [
       "True"
      ]
     },
     "execution_count": 7,
     "metadata": {},
     "output_type": "execute_result"
    }
   ],
   "source": [
    "# To check if the layer is trainable or not\n",
    "model.layers[1].trainable"
   ]
  },
  {
   "cell_type": "code",
   "execution_count": 8,
   "metadata": {},
   "outputs": [],
   "source": [
    "# Now we  want all the layers except the last one to freeze\n",
    "for layer in model.layers:\n",
    "    layer.trainable = False"
   ]
  },
  {
   "cell_type": "code",
   "execution_count": 9,
   "metadata": {},
   "outputs": [],
   "source": [
    "# now we will create a new fully connected layer\n",
    "from keras.models import Sequential\n",
    "from keras.layers import Dense"
   ]
  },
  {
   "cell_type": "code",
   "execution_count": 10,
   "metadata": {},
   "outputs": [
    {
     "ename": "AttributeError",
     "evalue": "'Model' object has no attribute 'add'",
     "output_type": "error",
     "traceback": [
      "\u001b[1;31m---------------------------------------------------------------------------\u001b[0m",
      "\u001b[1;31mAttributeError\u001b[0m                            Traceback (most recent call last)",
      "\u001b[1;32m<ipython-input-10-9b45fb74d02e>\u001b[0m in \u001b[0;36m<module>\u001b[1;34m\u001b[0m\n\u001b[1;32m----> 1\u001b[1;33m \u001b[0mmodel\u001b[0m\u001b[1;33m.\u001b[0m\u001b[0madd\u001b[0m\u001b[1;33m(\u001b[0m\u001b[0mDense\u001b[0m\u001b[1;33m(\u001b[0m\u001b[1;36m1024\u001b[0m\u001b[1;33m,\u001b[0m \u001b[0mactivation\u001b[0m\u001b[1;33m=\u001b[0m\u001b[1;34m'relu'\u001b[0m\u001b[1;33m)\u001b[0m\u001b[1;33m)\u001b[0m\u001b[1;33m\u001b[0m\u001b[1;33m\u001b[0m\u001b[0m\n\u001b[0m",
      "\u001b[1;31mAttributeError\u001b[0m: 'Model' object has no attribute 'add'"
     ]
    }
   ],
   "source": [
    "model.add(Dense(1024, activation='relu'))\n",
    "# This will fail"
   ]
  },
  {
   "cell_type": "code",
   "execution_count": 11,
   "metadata": {},
   "outputs": [
    {
     "data": {
      "text/plain": [
       "<tf.Tensor 'act_softmax/Softmax:0' shape=(None, 1000) dtype=float32>"
      ]
     },
     "execution_count": 11,
     "metadata": {},
     "output_type": "execute_result"
    }
   ],
   "source": [
    "model.output\n",
    "# We are not able to add because we already have an output layer"
   ]
  },
  {
   "cell_type": "code",
   "execution_count": 20,
   "metadata": {},
   "outputs": [
    {
     "name": "stdout",
     "output_type": "stream",
     "text": [
      "Downloading data from https://github.com/fchollet/deep-learning-models/releases/download/v0.6/mobilenet_1_0_224_tf_no_top.h5\n",
      "17227776/17225924 [==============================] - 20s 1us/step\n"
     ]
    }
   ],
   "source": [
    "# We require to add Fully connected layer before softmax\n",
    "# So , at the time of importing model :\n",
    "model = MobileNet(weights='imagenet',include_top=False, input_shape=(224,224,3))"
   ]
  },
  {
   "cell_type": "code",
   "execution_count": 21,
   "metadata": {},
   "outputs": [
    {
     "data": {
      "text/plain": [
       "<tf.Tensor 'conv_pw_13_relu_3/Relu6:0' shape=(None, 7, 7, 1024) dtype=float32>"
      ]
     },
     "execution_count": 21,
     "metadata": {},
     "output_type": "execute_result"
    }
   ],
   "source": [
    "model.output"
   ]
  },
  {
   "cell_type": "code",
   "execution_count": 23,
   "metadata": {},
   "outputs": [],
   "source": [
    "for layer in model.layers:\n",
    "    layer.trainable = False"
   ]
  },
  {
   "cell_type": "code",
   "execution_count": 24,
   "metadata": {},
   "outputs": [
    {
     "ename": "AttributeError",
     "evalue": "'Model' object has no attribute 'add'",
     "output_type": "error",
     "traceback": [
      "\u001b[1;31m---------------------------------------------------------------------------\u001b[0m",
      "\u001b[1;31mAttributeError\u001b[0m                            Traceback (most recent call last)",
      "\u001b[1;32m<ipython-input-24-139869101951>\u001b[0m in \u001b[0;36m<module>\u001b[1;34m\u001b[0m\n\u001b[1;32m----> 1\u001b[1;33m \u001b[0mmodel\u001b[0m\u001b[1;33m.\u001b[0m\u001b[0madd\u001b[0m\u001b[1;33m(\u001b[0m\u001b[0mDense\u001b[0m\u001b[1;33m(\u001b[0m\u001b[1;36m1024\u001b[0m\u001b[1;33m,\u001b[0m\u001b[1;34m'relu'\u001b[0m\u001b[1;33m)\u001b[0m\u001b[1;33m)\u001b[0m\u001b[1;33m\u001b[0m\u001b[1;33m\u001b[0m\u001b[0m\n\u001b[0m",
      "\u001b[1;31mAttributeError\u001b[0m: 'Model' object has no attribute 'add'"
     ]
    }
   ],
   "source": [
    "model.add(Dense(1024,'relu'))"
   ]
  },
  {
   "cell_type": "code",
   "execution_count": 25,
   "metadata": {},
   "outputs": [],
   "source": [
    "# This still shows error because we have not create the model from scratch\n",
    "top_model = model.output"
   ]
  },
  {
   "cell_type": "code",
   "execution_count": 26,
   "metadata": {},
   "outputs": [
    {
     "data": {
      "text/plain": [
       "<tf.Tensor 'conv_pw_13_relu_3/Relu6:0' shape=(None, 7, 7, 1024) dtype=float32>"
      ]
     },
     "execution_count": 26,
     "metadata": {},
     "output_type": "execute_result"
    }
   ],
   "source": [
    "top_model"
   ]
  },
  {
   "cell_type": "code",
   "execution_count": 27,
   "metadata": {},
   "outputs": [],
   "source": [
    "top_model =Dense(1024, activation='relu')(top_model)\n",
    "# Now we have added the layer after the last FC layer and before output layer"
   ]
  },
  {
   "cell_type": "code",
   "execution_count": 28,
   "metadata": {},
   "outputs": [],
   "source": [
    "top_model = Dense(512, activation='relu')(top_model)"
   ]
  },
  {
   "cell_type": "code",
   "execution_count": 29,
   "metadata": {},
   "outputs": [],
   "source": [
    "top_model = Dense(10, activation='softmax')(top_model)\n",
    "# We use '10' as we have monkey breed dataset having 10 classes of monkeys"
   ]
  },
  {
   "cell_type": "code",
   "execution_count": 30,
   "metadata": {},
   "outputs": [
    {
     "data": {
      "text/plain": [
       "<tf.Tensor 'input_4:0' shape=(None, 224, 224, 3) dtype=float32>"
      ]
     },
     "execution_count": 30,
     "metadata": {},
     "output_type": "execute_result"
    }
   ],
   "source": [
    "# now we compile the model\n",
    "from keras.models import Model\n",
    "model.input"
   ]
  },
  {
   "cell_type": "code",
   "execution_count": 31,
   "metadata": {},
   "outputs": [
    {
     "data": {
      "text/plain": [
       "<tf.Tensor 'dense_3/truediv:0' shape=(None, 7, 7, 10) dtype=float32>"
      ]
     },
     "execution_count": 31,
     "metadata": {},
     "output_type": "execute_result"
    }
   ],
   "source": [
    "top_model"
   ]
  },
  {
   "cell_type": "code",
   "execution_count": 32,
   "metadata": {},
   "outputs": [],
   "source": [
    "# Now we have to combine the above two models\n",
    "permodel = Model(inputs=model.input, outputs=top_model)"
   ]
  },
  {
   "cell_type": "code",
   "execution_count": 33,
   "metadata": {},
   "outputs": [
    {
     "name": "stdout",
     "output_type": "stream",
     "text": [
      "Model: \"model_1\"\n",
      "_________________________________________________________________\n",
      "Layer (type)                 Output Shape              Param #   \n",
      "=================================================================\n",
      "input_4 (InputLayer)         (None, 224, 224, 3)       0         \n",
      "_________________________________________________________________\n",
      "conv1_pad (ZeroPadding2D)    (None, 225, 225, 3)       0         \n",
      "_________________________________________________________________\n",
      "conv1 (Conv2D)               (None, 112, 112, 32)      864       \n",
      "_________________________________________________________________\n",
      "conv1_bn (BatchNormalization (None, 112, 112, 32)      128       \n",
      "_________________________________________________________________\n",
      "conv1_relu (ReLU)            (None, 112, 112, 32)      0         \n",
      "_________________________________________________________________\n",
      "conv_dw_1 (DepthwiseConv2D)  (None, 112, 112, 32)      288       \n",
      "_________________________________________________________________\n",
      "conv_dw_1_bn (BatchNormaliza (None, 112, 112, 32)      128       \n",
      "_________________________________________________________________\n",
      "conv_dw_1_relu (ReLU)        (None, 112, 112, 32)      0         \n",
      "_________________________________________________________________\n",
      "conv_pw_1 (Conv2D)           (None, 112, 112, 64)      2048      \n",
      "_________________________________________________________________\n",
      "conv_pw_1_bn (BatchNormaliza (None, 112, 112, 64)      256       \n",
      "_________________________________________________________________\n",
      "conv_pw_1_relu (ReLU)        (None, 112, 112, 64)      0         \n",
      "_________________________________________________________________\n",
      "conv_pad_2 (ZeroPadding2D)   (None, 113, 113, 64)      0         \n",
      "_________________________________________________________________\n",
      "conv_dw_2 (DepthwiseConv2D)  (None, 56, 56, 64)        576       \n",
      "_________________________________________________________________\n",
      "conv_dw_2_bn (BatchNormaliza (None, 56, 56, 64)        256       \n",
      "_________________________________________________________________\n",
      "conv_dw_2_relu (ReLU)        (None, 56, 56, 64)        0         \n",
      "_________________________________________________________________\n",
      "conv_pw_2 (Conv2D)           (None, 56, 56, 128)       8192      \n",
      "_________________________________________________________________\n",
      "conv_pw_2_bn (BatchNormaliza (None, 56, 56, 128)       512       \n",
      "_________________________________________________________________\n",
      "conv_pw_2_relu (ReLU)        (None, 56, 56, 128)       0         \n",
      "_________________________________________________________________\n",
      "conv_dw_3 (DepthwiseConv2D)  (None, 56, 56, 128)       1152      \n",
      "_________________________________________________________________\n",
      "conv_dw_3_bn (BatchNormaliza (None, 56, 56, 128)       512       \n",
      "_________________________________________________________________\n",
      "conv_dw_3_relu (ReLU)        (None, 56, 56, 128)       0         \n",
      "_________________________________________________________________\n",
      "conv_pw_3 (Conv2D)           (None, 56, 56, 128)       16384     \n",
      "_________________________________________________________________\n",
      "conv_pw_3_bn (BatchNormaliza (None, 56, 56, 128)       512       \n",
      "_________________________________________________________________\n",
      "conv_pw_3_relu (ReLU)        (None, 56, 56, 128)       0         \n",
      "_________________________________________________________________\n",
      "conv_pad_4 (ZeroPadding2D)   (None, 57, 57, 128)       0         \n",
      "_________________________________________________________________\n",
      "conv_dw_4 (DepthwiseConv2D)  (None, 28, 28, 128)       1152      \n",
      "_________________________________________________________________\n",
      "conv_dw_4_bn (BatchNormaliza (None, 28, 28, 128)       512       \n",
      "_________________________________________________________________\n",
      "conv_dw_4_relu (ReLU)        (None, 28, 28, 128)       0         \n",
      "_________________________________________________________________\n",
      "conv_pw_4 (Conv2D)           (None, 28, 28, 256)       32768     \n",
      "_________________________________________________________________\n",
      "conv_pw_4_bn (BatchNormaliza (None, 28, 28, 256)       1024      \n",
      "_________________________________________________________________\n",
      "conv_pw_4_relu (ReLU)        (None, 28, 28, 256)       0         \n",
      "_________________________________________________________________\n",
      "conv_dw_5 (DepthwiseConv2D)  (None, 28, 28, 256)       2304      \n",
      "_________________________________________________________________\n",
      "conv_dw_5_bn (BatchNormaliza (None, 28, 28, 256)       1024      \n",
      "_________________________________________________________________\n",
      "conv_dw_5_relu (ReLU)        (None, 28, 28, 256)       0         \n",
      "_________________________________________________________________\n",
      "conv_pw_5 (Conv2D)           (None, 28, 28, 256)       65536     \n",
      "_________________________________________________________________\n",
      "conv_pw_5_bn (BatchNormaliza (None, 28, 28, 256)       1024      \n",
      "_________________________________________________________________\n",
      "conv_pw_5_relu (ReLU)        (None, 28, 28, 256)       0         \n",
      "_________________________________________________________________\n",
      "conv_pad_6 (ZeroPadding2D)   (None, 29, 29, 256)       0         \n",
      "_________________________________________________________________\n",
      "conv_dw_6 (DepthwiseConv2D)  (None, 14, 14, 256)       2304      \n",
      "_________________________________________________________________\n",
      "conv_dw_6_bn (BatchNormaliza (None, 14, 14, 256)       1024      \n",
      "_________________________________________________________________\n",
      "conv_dw_6_relu (ReLU)        (None, 14, 14, 256)       0         \n",
      "_________________________________________________________________\n",
      "conv_pw_6 (Conv2D)           (None, 14, 14, 512)       131072    \n",
      "_________________________________________________________________\n",
      "conv_pw_6_bn (BatchNormaliza (None, 14, 14, 512)       2048      \n",
      "_________________________________________________________________\n",
      "conv_pw_6_relu (ReLU)        (None, 14, 14, 512)       0         \n",
      "_________________________________________________________________\n",
      "conv_dw_7 (DepthwiseConv2D)  (None, 14, 14, 512)       4608      \n",
      "_________________________________________________________________\n",
      "conv_dw_7_bn (BatchNormaliza (None, 14, 14, 512)       2048      \n",
      "_________________________________________________________________\n",
      "conv_dw_7_relu (ReLU)        (None, 14, 14, 512)       0         \n",
      "_________________________________________________________________\n",
      "conv_pw_7 (Conv2D)           (None, 14, 14, 512)       262144    \n",
      "_________________________________________________________________\n",
      "conv_pw_7_bn (BatchNormaliza (None, 14, 14, 512)       2048      \n",
      "_________________________________________________________________\n",
      "conv_pw_7_relu (ReLU)        (None, 14, 14, 512)       0         \n",
      "_________________________________________________________________\n",
      "conv_dw_8 (DepthwiseConv2D)  (None, 14, 14, 512)       4608      \n",
      "_________________________________________________________________\n",
      "conv_dw_8_bn (BatchNormaliza (None, 14, 14, 512)       2048      \n",
      "_________________________________________________________________\n",
      "conv_dw_8_relu (ReLU)        (None, 14, 14, 512)       0         \n",
      "_________________________________________________________________\n",
      "conv_pw_8 (Conv2D)           (None, 14, 14, 512)       262144    \n",
      "_________________________________________________________________\n",
      "conv_pw_8_bn (BatchNormaliza (None, 14, 14, 512)       2048      \n",
      "_________________________________________________________________\n",
      "conv_pw_8_relu (ReLU)        (None, 14, 14, 512)       0         \n",
      "_________________________________________________________________\n",
      "conv_dw_9 (DepthwiseConv2D)  (None, 14, 14, 512)       4608      \n",
      "_________________________________________________________________\n",
      "conv_dw_9_bn (BatchNormaliza (None, 14, 14, 512)       2048      \n",
      "_________________________________________________________________\n",
      "conv_dw_9_relu (ReLU)        (None, 14, 14, 512)       0         \n",
      "_________________________________________________________________\n",
      "conv_pw_9 (Conv2D)           (None, 14, 14, 512)       262144    \n",
      "_________________________________________________________________\n",
      "conv_pw_9_bn (BatchNormaliza (None, 14, 14, 512)       2048      \n",
      "_________________________________________________________________\n",
      "conv_pw_9_relu (ReLU)        (None, 14, 14, 512)       0         \n",
      "_________________________________________________________________\n",
      "conv_dw_10 (DepthwiseConv2D) (None, 14, 14, 512)       4608      \n",
      "_________________________________________________________________\n",
      "conv_dw_10_bn (BatchNormaliz (None, 14, 14, 512)       2048      \n",
      "_________________________________________________________________\n",
      "conv_dw_10_relu (ReLU)       (None, 14, 14, 512)       0         \n",
      "_________________________________________________________________\n",
      "conv_pw_10 (Conv2D)          (None, 14, 14, 512)       262144    \n",
      "_________________________________________________________________\n",
      "conv_pw_10_bn (BatchNormaliz (None, 14, 14, 512)       2048      \n",
      "_________________________________________________________________\n",
      "conv_pw_10_relu (ReLU)       (None, 14, 14, 512)       0         \n",
      "_________________________________________________________________\n",
      "conv_dw_11 (DepthwiseConv2D) (None, 14, 14, 512)       4608      \n",
      "_________________________________________________________________\n",
      "conv_dw_11_bn (BatchNormaliz (None, 14, 14, 512)       2048      \n",
      "_________________________________________________________________\n",
      "conv_dw_11_relu (ReLU)       (None, 14, 14, 512)       0         \n",
      "_________________________________________________________________\n",
      "conv_pw_11 (Conv2D)          (None, 14, 14, 512)       262144    \n",
      "_________________________________________________________________\n",
      "conv_pw_11_bn (BatchNormaliz (None, 14, 14, 512)       2048      \n",
      "_________________________________________________________________\n",
      "conv_pw_11_relu (ReLU)       (None, 14, 14, 512)       0         \n",
      "_________________________________________________________________\n",
      "conv_pad_12 (ZeroPadding2D)  (None, 15, 15, 512)       0         \n",
      "_________________________________________________________________\n",
      "conv_dw_12 (DepthwiseConv2D) (None, 7, 7, 512)         4608      \n",
      "_________________________________________________________________\n",
      "conv_dw_12_bn (BatchNormaliz (None, 7, 7, 512)         2048      \n",
      "_________________________________________________________________\n",
      "conv_dw_12_relu (ReLU)       (None, 7, 7, 512)         0         \n",
      "_________________________________________________________________\n",
      "conv_pw_12 (Conv2D)          (None, 7, 7, 1024)        524288    \n",
      "_________________________________________________________________\n",
      "conv_pw_12_bn (BatchNormaliz (None, 7, 7, 1024)        4096      \n",
      "_________________________________________________________________\n",
      "conv_pw_12_relu (ReLU)       (None, 7, 7, 1024)        0         \n",
      "_________________________________________________________________\n",
      "conv_dw_13 (DepthwiseConv2D) (None, 7, 7, 1024)        9216      \n",
      "_________________________________________________________________\n",
      "conv_dw_13_bn (BatchNormaliz (None, 7, 7, 1024)        4096      \n",
      "_________________________________________________________________\n",
      "conv_dw_13_relu (ReLU)       (None, 7, 7, 1024)        0         \n",
      "_________________________________________________________________\n",
      "conv_pw_13 (Conv2D)          (None, 7, 7, 1024)        1048576   \n",
      "_________________________________________________________________\n",
      "conv_pw_13_bn (BatchNormaliz (None, 7, 7, 1024)        4096      \n",
      "_________________________________________________________________\n",
      "conv_pw_13_relu (ReLU)       (None, 7, 7, 1024)        0         \n",
      "_________________________________________________________________\n",
      "dense_1 (Dense)              (None, 7, 7, 1024)        1049600   \n",
      "_________________________________________________________________\n",
      "dense_2 (Dense)              (None, 7, 7, 512)         524800    \n",
      "_________________________________________________________________\n",
      "dense_3 (Dense)              (None, 7, 7, 10)          5130      \n",
      "=================================================================\n",
      "Total params: 4,808,394\n",
      "Trainable params: 1,579,530\n",
      "Non-trainable params: 3,228,864\n",
      "_________________________________________________________________\n"
     ]
    }
   ],
   "source": [
    "permodel.summary()"
   ]
  },
  {
   "cell_type": "code",
   "execution_count": null,
   "metadata": {},
   "outputs": [],
   "source": [
    "# now train the model\n"
   ]
  }
 ],
 "metadata": {
  "kernelspec": {
   "display_name": "Python 3",
   "language": "python",
   "name": "python3"
  },
  "language_info": {
   "codemirror_mode": {
    "name": "ipython",
    "version": 3
   },
   "file_extension": ".py",
   "mimetype": "text/x-python",
   "name": "python",
   "nbconvert_exporter": "python",
   "pygments_lexer": "ipython3",
   "version": "3.7.7"
  }
 },
 "nbformat": 4,
 "nbformat_minor": 4
}
